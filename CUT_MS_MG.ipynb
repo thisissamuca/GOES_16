{
  "nbformat": 4,
  "nbformat_minor": 0,
  "metadata": {
    "colab": {
      "provenance": [],
      "authorship_tag": "ABX9TyNy3EfnCQuV3+tpriVe/2NI",
      "include_colab_link": true
    },
    "kernelspec": {
      "name": "python3",
      "display_name": "Python 3"
    },
    "language_info": {
      "name": "python"
    }
  },
  "cells": [
    {
      "cell_type": "markdown",
      "metadata": {
        "id": "view-in-github",
        "colab_type": "text"
      },
      "source": [
        "<a href=\"https://colab.research.google.com/github/thisissamuca/GOES_16/blob/main/CUT_MS_MG.ipynb\" target=\"_parent\"><img src=\"https://colab.research.google.com/assets/colab-badge.svg\" alt=\"Open In Colab\"/></a>"
      ]
    },
    {
      "cell_type": "markdown",
      "source": [
        "# Usado para obter a extenção do Mato Grosso do Sul e do Mato Grosso"
      ],
      "metadata": {
        "id": "No-E0BPCeizG"
      }
    },
    {
      "cell_type": "code",
      "source": [
        "pip install rasterio fiona geopandas"
      ],
      "metadata": {
        "colab": {
          "base_uri": "https://localhost:8080/"
        },
        "collapsed": true,
        "id": "RjVsOCdXXG08",
        "outputId": "4064e536-497a-4dcb-a1c0-077369152bd2"
      },
      "execution_count": null,
      "outputs": [
        {
          "output_type": "stream",
          "name": "stdout",
          "text": [
            "Collecting rasterio\n",
            "  Downloading rasterio-1.4.3-cp311-cp311-manylinux_2_17_x86_64.manylinux2014_x86_64.whl.metadata (9.1 kB)\n",
            "Collecting fiona\n",
            "  Downloading fiona-1.10.1-cp311-cp311-manylinux_2_17_x86_64.manylinux2014_x86_64.whl.metadata (56 kB)\n",
            "\u001b[2K     \u001b[90m━━━━━━━━━━━━━━━━━━━━━━━━━━━━━━━━━━━━━━━━\u001b[0m \u001b[32m56.6/56.6 kB\u001b[0m \u001b[31m3.7 MB/s\u001b[0m eta \u001b[36m0:00:00\u001b[0m\n",
            "\u001b[?25hRequirement already satisfied: geopandas in /usr/local/lib/python3.11/dist-packages (1.1.1)\n",
            "Collecting affine (from rasterio)\n",
            "  Downloading affine-2.4.0-py3-none-any.whl.metadata (4.0 kB)\n",
            "Requirement already satisfied: attrs in /usr/local/lib/python3.11/dist-packages (from rasterio) (25.3.0)\n",
            "Requirement already satisfied: certifi in /usr/local/lib/python3.11/dist-packages (from rasterio) (2025.7.14)\n",
            "Requirement already satisfied: click>=4.0 in /usr/local/lib/python3.11/dist-packages (from rasterio) (8.2.1)\n",
            "Collecting cligj>=0.5 (from rasterio)\n",
            "  Downloading cligj-0.7.2-py3-none-any.whl.metadata (5.0 kB)\n",
            "Requirement already satisfied: numpy>=1.24 in /usr/local/lib/python3.11/dist-packages (from rasterio) (2.0.2)\n",
            "Collecting click-plugins (from rasterio)\n",
            "  Downloading click_plugins-1.1.1.2-py2.py3-none-any.whl.metadata (6.5 kB)\n",
            "Requirement already satisfied: pyparsing in /usr/local/lib/python3.11/dist-packages (from rasterio) (3.2.3)\n",
            "Requirement already satisfied: pyogrio>=0.7.2 in /usr/local/lib/python3.11/dist-packages (from geopandas) (0.11.0)\n",
            "Requirement already satisfied: packaging in /usr/local/lib/python3.11/dist-packages (from geopandas) (25.0)\n",
            "Requirement already satisfied: pandas>=2.0.0 in /usr/local/lib/python3.11/dist-packages (from geopandas) (2.2.2)\n",
            "Requirement already satisfied: pyproj>=3.5.0 in /usr/local/lib/python3.11/dist-packages (from geopandas) (3.7.1)\n",
            "Requirement already satisfied: shapely>=2.0.0 in /usr/local/lib/python3.11/dist-packages (from geopandas) (2.1.1)\n",
            "Requirement already satisfied: python-dateutil>=2.8.2 in /usr/local/lib/python3.11/dist-packages (from pandas>=2.0.0->geopandas) (2.9.0.post0)\n",
            "Requirement already satisfied: pytz>=2020.1 in /usr/local/lib/python3.11/dist-packages (from pandas>=2.0.0->geopandas) (2025.2)\n",
            "Requirement already satisfied: tzdata>=2022.7 in /usr/local/lib/python3.11/dist-packages (from pandas>=2.0.0->geopandas) (2025.2)\n",
            "Requirement already satisfied: six>=1.5 in /usr/local/lib/python3.11/dist-packages (from python-dateutil>=2.8.2->pandas>=2.0.0->geopandas) (1.17.0)\n",
            "Downloading rasterio-1.4.3-cp311-cp311-manylinux_2_17_x86_64.manylinux2014_x86_64.whl (22.2 MB)\n",
            "\u001b[2K   \u001b[90m━━━━━━━━━━━━━━━━━━━━━━━━━━━━━━━━━━━━━━━━\u001b[0m \u001b[32m22.2/22.2 MB\u001b[0m \u001b[31m22.6 MB/s\u001b[0m eta \u001b[36m0:00:00\u001b[0m\n",
            "\u001b[?25hDownloading fiona-1.10.1-cp311-cp311-manylinux_2_17_x86_64.manylinux2014_x86_64.whl (17.3 MB)\n",
            "\u001b[2K   \u001b[90m━━━━━━━━━━━━━━━━━━━━━━━━━━━━━━━━━━━━━━━━\u001b[0m \u001b[32m17.3/17.3 MB\u001b[0m \u001b[31m28.9 MB/s\u001b[0m eta \u001b[36m0:00:00\u001b[0m\n",
            "\u001b[?25hDownloading click_plugins-1.1.1.2-py2.py3-none-any.whl (11 kB)\n",
            "Downloading cligj-0.7.2-py3-none-any.whl (7.1 kB)\n",
            "Downloading affine-2.4.0-py3-none-any.whl (15 kB)\n",
            "Installing collected packages: cligj, click-plugins, affine, rasterio, fiona\n",
            "Successfully installed affine-2.4.0 click-plugins-1.1.1.2 cligj-0.7.2 fiona-1.10.1 rasterio-1.4.3\n"
          ]
        }
      ]
    },
    {
      "cell_type": "code",
      "source": [
        "from google.colab import drive\n",
        "drive.mount('/content/drive')"
      ],
      "metadata": {
        "colab": {
          "base_uri": "https://localhost:8080/"
        },
        "id": "5-zQ3nmFasVk",
        "outputId": "e8658ef2-12da-450f-aa57-18eedf02394f"
      },
      "execution_count": null,
      "outputs": [
        {
          "output_type": "stream",
          "name": "stdout",
          "text": [
            "Mounted at /content/drive\n"
          ]
        }
      ]
    },
    {
      "cell_type": "markdown",
      "source": [
        "# Arquivo único"
      ],
      "metadata": {
        "id": "0-qXO6H1dGmh"
      }
    },
    {
      "cell_type": "code",
      "execution_count": null,
      "metadata": {
        "colab": {
          "base_uri": "https://localhost:8080/"
        },
        "id": "0Rj5zHGYXBA0",
        "outputId": "de89a66c-5627-43a9-cd85-b8f8577c453d"
      },
      "outputs": [
        {
          "output_type": "stream",
          "name": "stdout",
          "text": [
            "Raster recortado com sucesso e salvo em: /content/arquivo.tif\n"
          ]
        }
      ],
      "source": [
        "import rasterio\n",
        "from rasterio.mask import mask\n",
        "import geopandas\n",
        "import numpy as np\n",
        "\n",
        "def clip_raster_with_shapefile(raster_path, shapefile_path, output_path):\n",
        "    \"\"\"\n",
        "    Recorta um raster utilizando um shapefile e reclassifica valores 0 para nan.\n",
        "\n",
        "    Args:\n",
        "        raster_path (str): Caminho para o arquivo raster.\n",
        "        shapefile_path (str): Caminho para o arquivo shapefile.\n",
        "        output_path (str): Caminho para salvar o raster recortado.\n",
        "    \"\"\"\n",
        "    try:\n",
        "        # Abrir o raster\n",
        "        with rasterio.open(raster_path) as src:\n",
        "            # Ler o shapefile\n",
        "            gdf = geopandas.read_file(shapefile_path)\n",
        "\n",
        "            # Garantir que o shapefile esteja no mesmo CRS que o raster\n",
        "            if gdf.crs != src.crs:\n",
        "                gdf = gdf.to_crs(src.crs)\n",
        "\n",
        "            # Converter o GeoDataFrame para lista de geometrias para a função mask\n",
        "            shapes = [geometry for geometry in gdf.geometry]\n",
        "\n",
        "            # Recortar o raster\n",
        "            out_image, out_transform = mask(src, shapes=shapes, crop=True)\n",
        "            out_meta = src.meta.copy()\n",
        "\n",
        "            # Reclassificar valores 0 para nan\n",
        "            out_image = out_image.astype(np.float32)  # Converter para float para permitir nan\n",
        "            out_image[out_image == 0] = np.nan\n",
        "\n",
        "            # Atualizar metadados para o raster recortado\n",
        "            out_meta.update({\n",
        "                \"driver\": \"GTiff\",\n",
        "                \"height\": out_image.shape[1],\n",
        "                \"width\": out_image.shape[2],\n",
        "                \"transform\": out_transform,\n",
        "                \"dtype\": 'float32',  # Atualizar o tipo de dados\n",
        "                \"nodata\": np.nan     # Definir nan como valor nodata\n",
        "            })\n",
        "\n",
        "            # Salvar o raster recortado\n",
        "            with rasterio.open(output_path, \"w\", **out_meta) as dest:\n",
        "                dest.write(out_image)\n",
        "\n",
        "        print(f\"Raster recortado com sucesso e salvo em: {output_path}\")\n",
        "\n",
        "    except Exception as e:\n",
        "        print(f\"Ocorreu um erro ao recortar o raster: {e}\")\n",
        "\n",
        "# Exemplo de uso:\n",
        "raster_path = \"/content/ABI-L2-CMIPF-M6C01_G16_s20201521300164_e20201521309472_c20201521309546.tif\"\n",
        "shapefile_path = \"/content/MS_MG.shp\"\n",
        "output_path = \"/content/arquivo.tif\"\n",
        "\n",
        "clip_raster_with_shapefile(raster_path, shapefile_path, output_path)"
      ]
    },
    {
      "cell_type": "markdown",
      "source": [
        "# Lote de arquivos"
      ],
      "metadata": {
        "id": "1a62sTAadJzb"
      }
    },
    {
      "cell_type": "code",
      "source": [
        "import rasterio\n",
        "from rasterio.mask import mask\n",
        "import geopandas\n",
        "import numpy as np\n",
        "import os\n",
        "from tqdm import tqdm  # para barra de progresso (opcional)\n",
        "\n",
        "def process_raster_batch(input_dir, shapefile_path, output_dir):\n",
        "    \"\"\"\n",
        "    Processa em massa arquivos .tif de um diretório, recortando com um shapefile e reclassificando 0 para nan.\n",
        "\n",
        "    Args:\n",
        "        input_dir (str): Caminho para o diretório com os arquivos .tif de entrada\n",
        "        shapefile_path (str): Caminho para o arquivo shapefile (o mesmo para todos)\n",
        "        output_dir (str): Caminho para o diretório de saída\n",
        "    \"\"\"\n",
        "    try:\n",
        "        # Verificar/Criar diretório de saída\n",
        "        os.makedirs(output_dir, exist_ok=True)\n",
        "\n",
        "        # Carregar o shapefile uma única vez (para todos os rasters)\n",
        "        gdf = geopandas.read_file(shapefile_path)\n",
        "\n",
        "        # Listar todos os arquivos .tif no diretório de entrada\n",
        "        tif_files = [f for f in os.listdir(input_dir) if f.lower().endswith('.tif')]\n",
        "\n",
        "        if not tif_files:\n",
        "            print(\"Nenhum arquivo .tif encontrado no diretório de entrada.\")\n",
        "            return\n",
        "\n",
        "        print(f\"Iniciando processamento de {len(tif_files)} arquivos...\")\n",
        "\n",
        "        for tif_file in tqdm(tif_files, desc=\"Processando rasters\"):\n",
        "            try:\n",
        "                raster_path = os.path.join(input_dir, tif_file)\n",
        "                output_path = os.path.join(output_dir, f\"clip_{tif_file}\")\n",
        "\n",
        "                # Abrir o raster\n",
        "                with rasterio.open(raster_path) as src:\n",
        "                    # Garantir que o shapefile esteja no mesmo CRS que o raster atual\n",
        "                    if gdf.crs != src.crs:\n",
        "                        current_gdf = gdf.to_crs(src.crs)\n",
        "                    else:\n",
        "                        current_gdf = gdf\n",
        "\n",
        "                    # Converter para lista de geometrias\n",
        "                    shapes = [geometry for geometry in current_gdf.geometry]\n",
        "\n",
        "                    # Recortar o raster\n",
        "                    out_image, out_transform = mask(src, shapes=shapes, crop=True)\n",
        "                    out_meta = src.meta.copy()\n",
        "\n",
        "                    # Reclassificar valores 0 para nan\n",
        "                    out_image = out_image.astype(np.float32)\n",
        "                    out_image[out_image == 0] = np.nan\n",
        "\n",
        "                    # Atualizar metadados\n",
        "                    out_meta.update({\n",
        "                        \"driver\": \"GTiff\",\n",
        "                        \"height\": out_image.shape[1],\n",
        "                        \"width\": out_image.shape[2],\n",
        "                        \"transform\": out_transform,\n",
        "                        \"dtype\": 'float32',\n",
        "                        \"nodata\": np.nan\n",
        "                    })\n",
        "\n",
        "                    # Salvar o raster recortado\n",
        "                    with rasterio.open(output_path, \"w\", **out_meta) as dest:\n",
        "                        dest.write(out_image)\n",
        "\n",
        "            except Exception as e:\n",
        "                print(f\"\\nErro ao processar {tif_file}: {e}\")\n",
        "                continue\n",
        "\n",
        "        print(f\"\\nProcessamento concluído! Arquivos salvos em: {output_dir}\")\n",
        "\n",
        "    except Exception as e:\n",
        "        print(f\"Ocorreu um erro geral: {e}\")\n",
        "\n",
        "# Exemplo de uso:\n",
        "input_directory = \"/content/drive/MyDrive/NBR/ARQUIVOS_PROCESSADOS/MASCARA_NUVEM_APLICADA\"\n",
        "shapefile_path = \"/content/drive/MyDrive/NBR/ARQUIVOS_BRUTOS/SHAPEFILES/RECORTE_MS_MG/MS_MG.shp\"\n",
        "output_directory = \"/content/drive/MyDrive/NBR/ARQUIVOS_PROCESSADOS/RECORTE_DADOS\"\n",
        "\n",
        "process_raster_batch(input_directory, shapefile_path, output_directory)"
      ],
      "metadata": {
        "colab": {
          "base_uri": "https://localhost:8080/"
        },
        "id": "-5W9S5V5Xqt0",
        "outputId": "c0d72157-ed2b-4354-aff8-bab57b37337a"
      },
      "execution_count": null,
      "outputs": [
        {
          "output_type": "stream",
          "name": "stdout",
          "text": [
            "Iniciando processamento de 60 arquivos...\n"
          ]
        },
        {
          "output_type": "stream",
          "name": "stderr",
          "text": [
            "Processando rasters: 100%|██████████| 60/60 [00:59<00:00,  1.01it/s]"
          ]
        },
        {
          "output_type": "stream",
          "name": "stdout",
          "text": [
            "\n",
            "Processamento concluído! Arquivos salvos em: /content/drive/MyDrive/NBR/ARQUIVOS_PROCESSADOS/RECORTE_DADOS\n"
          ]
        },
        {
          "output_type": "stream",
          "name": "stderr",
          "text": [
            "\n"
          ]
        }
      ]
    }
  ]
}