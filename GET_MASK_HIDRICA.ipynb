{
  "nbformat": 4,
  "nbformat_minor": 0,
  "metadata": {
    "colab": {
      "provenance": [],
      "authorship_tag": "ABX9TyN9ClhEnhAFlpmdiNfXdO6U",
      "include_colab_link": true
    },
    "kernelspec": {
      "name": "python3",
      "display_name": "Python 3"
    },
    "language_info": {
      "name": "python"
    }
  },
  "cells": [
    {
      "cell_type": "markdown",
      "metadata": {
        "id": "view-in-github",
        "colab_type": "text"
      },
      "source": [
        "<a href=\"https://colab.research.google.com/github/thisissamuca/GOES_16/blob/main/GET_MASK_HIDRICA.ipynb\" target=\"_parent\"><img src=\"https://colab.research.google.com/assets/colab-badge.svg\" alt=\"Open In Colab\"/></a>"
      ]
    },
    {
      "cell_type": "markdown",
      "source": [
        "# Usado para obter recorte de corpos hídricos"
      ],
      "metadata": {
        "id": "HqzYvEf7dUAs"
      }
    },
    {
      "cell_type": "code",
      "source": [
        "pip install rasterio"
      ],
      "metadata": {
        "colab": {
          "base_uri": "https://localhost:8080/"
        },
        "id": "aqZo2OrLOsw8",
        "outputId": "47842756-87a8-4664-b794-4dde1e532d44"
      },
      "execution_count": null,
      "outputs": [
        {
          "output_type": "stream",
          "name": "stdout",
          "text": [
            "Collecting rasterio\n",
            "  Downloading rasterio-1.4.3-cp311-cp311-manylinux_2_17_x86_64.manylinux2014_x86_64.whl.metadata (9.1 kB)\n",
            "Collecting affine (from rasterio)\n",
            "  Downloading affine-2.4.0-py3-none-any.whl.metadata (4.0 kB)\n",
            "Requirement already satisfied: attrs in /usr/local/lib/python3.11/dist-packages (from rasterio) (25.3.0)\n",
            "Requirement already satisfied: certifi in /usr/local/lib/python3.11/dist-packages (from rasterio) (2025.7.14)\n",
            "Requirement already satisfied: click>=4.0 in /usr/local/lib/python3.11/dist-packages (from rasterio) (8.2.1)\n",
            "Collecting cligj>=0.5 (from rasterio)\n",
            "  Downloading cligj-0.7.2-py3-none-any.whl.metadata (5.0 kB)\n",
            "Requirement already satisfied: numpy>=1.24 in /usr/local/lib/python3.11/dist-packages (from rasterio) (2.0.2)\n",
            "Collecting click-plugins (from rasterio)\n",
            "  Downloading click_plugins-1.1.1.2-py2.py3-none-any.whl.metadata (6.5 kB)\n",
            "Requirement already satisfied: pyparsing in /usr/local/lib/python3.11/dist-packages (from rasterio) (3.2.3)\n",
            "Downloading rasterio-1.4.3-cp311-cp311-manylinux_2_17_x86_64.manylinux2014_x86_64.whl (22.2 MB)\n",
            "\u001b[2K   \u001b[90m━━━━━━━━━━━━━━━━━━━━━━━━━━━━━━━━━━━━━━━━\u001b[0m \u001b[32m22.2/22.2 MB\u001b[0m \u001b[31m87.3 MB/s\u001b[0m eta \u001b[36m0:00:00\u001b[0m\n",
            "\u001b[?25hDownloading cligj-0.7.2-py3-none-any.whl (7.1 kB)\n",
            "Downloading affine-2.4.0-py3-none-any.whl (15 kB)\n",
            "Downloading click_plugins-1.1.1.2-py2.py3-none-any.whl (11 kB)\n",
            "Installing collected packages: cligj, click-plugins, affine, rasterio\n",
            "Successfully installed affine-2.4.0 click-plugins-1.1.1.2 cligj-0.7.2 rasterio-1.4.3\n"
          ]
        }
      ]
    },
    {
      "cell_type": "code",
      "source": [
        "from google.colab import drive\n",
        "drive.mount('/content/drive')\n",
        "\n",
        "import os\n",
        "import rasterio\n",
        "import numpy as np\n",
        "from tqdm import tqdm"
      ],
      "metadata": {
        "colab": {
          "base_uri": "https://localhost:8080/"
        },
        "id": "9BlYgALHRj9e",
        "outputId": "71dde22c-fdbf-431f-846c-cc790839732e"
      },
      "execution_count": null,
      "outputs": [
        {
          "output_type": "stream",
          "name": "stdout",
          "text": [
            "Mounted at /content/drive\n"
          ]
        }
      ]
    },
    {
      "cell_type": "markdown",
      "source": [
        "# Apenas um arquivo"
      ],
      "metadata": {
        "id": "KMKE4uo8OMX2"
      }
    },
    {
      "cell_type": "code",
      "execution_count": null,
      "metadata": {
        "colab": {
          "base_uri": "https://localhost:8080/"
        },
        "id": "lfL0YizBNF2c",
        "outputId": "adf18769-b009-4eb2-9315-39b5b60fa304"
      },
      "outputs": [
        {
          "output_type": "stream",
          "name": "stdout",
          "text": [
            "Raster reclassificado com sucesso e salvo em: /content/teste.tif\n"
          ]
        }
      ],
      "source": [
        "def reclassify_raster(input_path, output_path):\n",
        "    \"\"\"\n",
        "    Reclassifica um raster GeoTIFF em duas etapas:\n",
        "    1. Valores < 0.08 são reclassificados para 0\n",
        "    2. Valores > 0 são reclassificados para 1\n",
        "\n",
        "    Args:\n",
        "        input_path (str): Caminho para o arquivo GeoTIFF de entrada\n",
        "        output_path (str): Caminho para salvar o arquivo reclassificado\n",
        "    \"\"\"\n",
        "    try:\n",
        "        with rasterio.open(input_path) as src:\n",
        "            # Ler os dados do raster\n",
        "            data = src.read(1)\n",
        "            meta = src.meta.copy()\n",
        "\n",
        "            # Primeira reclassificação: valores < 0.08 -> 0\n",
        "            data[data < 0.08] = np.nan\n",
        "\n",
        "            # Segunda reclassificação: valores > 0 -> 1\n",
        "            data[data > 0] = 1\n",
        "\n",
        "            # Atualizar metadados para refletir as mudanças\n",
        "            meta.update({\n",
        "                'dtype': 'float32',  # ou 'uint8' se preferir valores inteiros\n",
        "                'nodata': 0          # definir 0 como valor nodata (opcional)\n",
        "            })\n",
        "\n",
        "            # Salvar o raster reclassificado\n",
        "            with rasterio.open(output_path, 'w', **meta) as dst:\n",
        "                dst.write(data.astype(meta['dtype']), 1)\n",
        "\n",
        "        print(f\"Raster reclassificado com sucesso e salvo em: {output_path}\")\n",
        "\n",
        "    except Exception as e:\n",
        "        print(f\"Erro ao processar o arquivo: {e}\")\n",
        "\n",
        "# Exemplo de uso:\n",
        "input_file = \"/content/clip_ABI-L2-CMIPF-M6C03_G16_s20201521350164_e20201521359471_c20201521359550.tif\"\n",
        "output_file = \"/content/teste.tif\"\n",
        "reclassify_raster(input_file, output_file)"
      ]
    },
    {
      "cell_type": "markdown",
      "source": [
        "# Lote de arquivos"
      ],
      "metadata": {
        "id": "ZIrDyllTdKqg"
      }
    },
    {
      "cell_type": "code",
      "source": [
        "def batch_reclassify(input_dir, output_dir):\n",
        "    \"\"\"\n",
        "    Processa todos os GeoTIFFs contendo 'M6C03' no nome em um diretório\n",
        "    com as reclassificações especificadas\n",
        "\n",
        "    Args:\n",
        "        input_dir (str): Diretório com os arquivos de entrada\n",
        "        output_dir (str): Diretório para salvar os arquivos processados\n",
        "    \"\"\"\n",
        "    # Criar diretório de saída se não existir\n",
        "    os.makedirs(output_dir, exist_ok=True)\n",
        "\n",
        "    # Listar arquivos .tif no diretório que contenham 'M6C03' no nome\n",
        "    tif_files = [f for f in os.listdir(input_dir)\n",
        "                if f.lower().endswith('.tif') and 'M6C03' in f]\n",
        "\n",
        "    if not tif_files:\n",
        "        print(\"Nenhum arquivo .tif com 'M6C03' no nome encontrado no diretório de entrada.\")\n",
        "        return\n",
        "\n",
        "    print(f\"Processando {len(tif_files)} arquivos com 'M6C03'...\")\n",
        "\n",
        "    for file in tqdm(tif_files, desc=\"Processando arquivos M6C03\"):\n",
        "        try:\n",
        "            input_path = os.path.join(input_dir, file)\n",
        "            output_path = os.path.join(output_dir, f\"reclass_{file}\")\n",
        "\n",
        "            with rasterio.open(input_path) as src:\n",
        "                data = src.read(1)\n",
        "                meta = src.meta.copy()\n",
        "\n",
        "                # Primeira reclassificação: valores < 0.08 -> 0\n",
        "                data[data < 0.08] = 0\n",
        "\n",
        "                # Segunda reclassificação: valores > 0 -> 1\n",
        "                data[data > 0] = 1\n",
        "\n",
        "                # Atualizar metadados\n",
        "                meta.update({\n",
        "                    'dtype': 'float32',  # Usando inteiro para economizar espaço\n",
        "                    'nodata': 0\n",
        "                })\n",
        "\n",
        "                with rasterio.open(output_path, 'w', **meta) as dst:\n",
        "                    dst.write(data.astype(meta['dtype']), 1)\n",
        "\n",
        "        except Exception as e:\n",
        "            print(f\"\\nErro ao processar {file}: {e}\")\n",
        "\n",
        "    print(\"\\nProcessamento concluído!\")\n",
        "\n",
        "# Exemplo de uso:\n",
        "batch_reclassify(\"/content/drive/MyDrive/NBR/ARQUIVOS_PROCESSADOS/RECORTE_DADOS\", \"/content/drive/MyDrive/NBR/ARQUIVOS_PROCESSADOS/MASCARA_HÍDRICA\")"
      ],
      "metadata": {
        "colab": {
          "base_uri": "https://localhost:8080/"
        },
        "id": "DScsjJBDOr1k",
        "outputId": "0311411d-1dc8-469e-ecda-f742f79a96f1"
      },
      "execution_count": null,
      "outputs": [
        {
          "output_type": "stream",
          "name": "stdout",
          "text": [
            "Processando 12 arquivos com 'M6C03'...\n"
          ]
        },
        {
          "output_type": "stream",
          "name": "stderr",
          "text": [
            "Processando arquivos M6C03: 100%|██████████| 12/12 [00:15<00:00,  1.28s/it]"
          ]
        },
        {
          "output_type": "stream",
          "name": "stdout",
          "text": [
            "\n",
            "Processamento concluído!\n"
          ]
        },
        {
          "output_type": "stream",
          "name": "stderr",
          "text": [
            "\n"
          ]
        }
      ]
    }
  ]
}